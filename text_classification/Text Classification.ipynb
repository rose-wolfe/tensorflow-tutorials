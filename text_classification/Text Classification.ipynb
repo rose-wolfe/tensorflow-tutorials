{
 "cells": [
  {
   "cell_type": "code",
   "execution_count": 3,
   "metadata": {},
   "outputs": [
    {
     "name": "stdout",
     "output_type": "stream",
     "text": [
      "2.0.0-beta1\n"
     ]
    }
   ],
   "source": [
    "from __future__ import absolute_import, division, print_function, unicode_literals\n",
    "\n",
    "import tensorflow as tf\n",
    "from tensorflow import keras\n",
    "\n",
    "import numpy as np\n",
    "print(tf.__version__)"
   ]
  },
  {
   "cell_type": "code",
   "execution_count": 6,
   "metadata": {},
   "outputs": [
    {
     "name": "stdout",
     "output_type": "stream",
     "text": [
      "(25000,)\n"
     ]
    }
   ],
   "source": [
    "imdb = keras.datasets.imdb\n",
    "(train_data, train_labels), (test_data, test_labels) = imdb.load_data(num_words=10000)"
   ]
  },
  {
   "cell_type": "code",
   "execution_count": 7,
   "metadata": {},
   "outputs": [
    {
     "name": "stdout",
     "output_type": "stream",
     "text": [
      "Training entries: 25000, labels: 25000\n"
     ]
    }
   ],
   "source": [
    "print(\"Training entries: {}, labels: {}\".format(len(train_data), len(train_labels)))"
   ]
  },
  {
   "cell_type": "code",
   "execution_count": 13,
   "metadata": {},
   "outputs": [],
   "source": [
    "# A dictionary mapping words to an integer index\n",
    "word_index = imdb.get_word_index()\n",
    "\n",
    "# The first indices are reserved\n",
    "word_index = {k:(v+3) for k, v in word_index.items()}\n",
    "word_index[\"<PAD>\"] = 0\n",
    "word_index[\"<START>\"] = 1\n",
    "word_index[\"<UNK>\"] = 2 #unknown\n",
    "word_index[\"<UNUSED>\"] = 3\n",
    "\n",
    "reverse_word_index = dict([(value, key) for (key, value) in word_index.items()])\n",
    "\n",
    "def decode_review(text):\n",
    "    return ' '.join([reverse_word_index.get(i, '?') for i in text])"
   ]
  },
  {
   "cell_type": "code",
   "execution_count": 14,
   "metadata": {
    "collapsed": true
   },
   "outputs": [
    {
     "data": {
      "text/plain": [
       "\"<START> this film was just brilliant casting location scenery story direction everyone's really suited the part they played and you could just imagine being there robert <UNK> is an amazing actor and now the same being director <UNK> father came from the same scottish island as myself so i loved the fact there was a real connection with this film the witty remarks throughout the film were great it was just brilliant so much that i bought the film as soon as it was released for <UNK> and would recommend it to everyone to watch and the fly fishing was amazing really cried at the end it was so sad and you know what they say if you cry at a film it must have been good and this definitely was also <UNK> to the two little boy's that played the <UNK> of norman and paul they were just brilliant children are often left out of the <UNK> list i think because the stars that play them all grown up are such a big profile for the whole film but these children are amazing and should be praised for what they have done don't you think the whole story was so lovely because it was true and was someone's life after all that was shared with us all\""
      ]
     },
     "execution_count": 14,
     "metadata": {},
     "output_type": "execute_result"
    }
   ],
   "source": [
    "decode_review(train_data[0])"
   ]
  },
  {
   "cell_type": "code",
   "execution_count": 16,
   "metadata": {},
   "outputs": [],
   "source": [
    "train_data = keras.preprocessing.sequence.pad_sequences(train_data,\n",
    "                                                       value=word_index[\"<PAD>\"],\n",
    "                                                       padding='post',\n",
    "                                                       maxlen=256)\n",
    "\n",
    "test_data = keras.preprocessing.sequence.pad_sequences(test_data,\n",
    "                                                      value=word_index[\"<PAD>\"],\n",
    "                                                      padding='post',\n",
    "                                                      maxlen=256)"
   ]
  },
  {
   "cell_type": "code",
   "execution_count": 18,
   "metadata": {},
   "outputs": [
    {
     "name": "stdout",
     "output_type": "stream",
     "text": [
      "Model: \"sequential\"\n",
      "_________________________________________________________________\n",
      "Layer (type)                 Output Shape              Param #   \n",
      "=================================================================\n",
      "embedding (Embedding)        (None, None, 16)          160000    \n",
      "_________________________________________________________________\n",
      "global_average_pooling1d (Gl (None, 16)                0         \n",
      "_________________________________________________________________\n",
      "dense (Dense)                (None, 16)                272       \n",
      "_________________________________________________________________\n",
      "dense_1 (Dense)              (None, 1)                 17        \n",
      "=================================================================\n",
      "Total params: 160,289\n",
      "Trainable params: 160,289\n",
      "Non-trainable params: 0\n",
      "_________________________________________________________________\n"
     ]
    }
   ],
   "source": [
    "# Build the model\n",
    "# input shape is the vocabulary count used for the movie reviews (10,000 words)\n",
    "vocab_size = 10000\n",
    "\n",
    "model = keras.Sequential()\n",
    "model.add(keras.layers.Embedding(vocab_size, 16))\n",
    "model.add(keras.layers.GlobalAveragePooling1D())\n",
    "model.add(keras.layers.Dense(16, activation=tf.nn.relu))\n",
    "model.add(keras.layers.Dense(1, activation=tf.nn.sigmoid))\n",
    "\n",
    "model.summary()"
   ]
  },
  {
   "cell_type": "code",
   "execution_count": 20,
   "metadata": {},
   "outputs": [],
   "source": [
    "model.compile(optimizer='adam',\n",
    "             loss='binary_crossentropy',\n",
    "             metrics=['acc'])"
   ]
  },
  {
   "cell_type": "code",
   "execution_count": 28,
   "metadata": {},
   "outputs": [],
   "source": [
    "x_val = train_data[:10000]\n",
    "partial_x_train = train_data[10000:]\n",
    "\n",
    "y_val = train_labels[:10000]\n",
    "partial_y_train = train_labels[10000:]"
   ]
  },
  {
   "cell_type": "code",
   "execution_count": 29,
   "metadata": {},
   "outputs": [
    {
     "name": "stderr",
     "output_type": "stream",
     "text": [
      "WARNING: Logging before flag parsing goes to stderr.\n",
      "W0704 13:59:54.120582 140208445712192 deprecation.py:323] From /home/rose/envs/tensorflow-generic/lib/python3.6/site-packages/tensorflow/python/ops/math_grad.py:1250: add_dispatch_support.<locals>.wrapper (from tensorflow.python.ops.array_ops) is deprecated and will be removed in a future version.\n",
      "Instructions for updating:\n",
      "Use tf.where in 2.0, which has the same broadcast rule as np.where\n"
     ]
    },
    {
     "name": "stdout",
     "output_type": "stream",
     "text": [
      "Train on 15000 samples, validate on 10000 samples\n",
      "Epoch 1/40\n",
      "15000/15000 [==============================] - 1s 49us/sample - loss: 0.6916 - acc: 0.5973 - val_loss: 0.6896 - val_acc: 0.6810\n",
      "Epoch 2/40\n",
      "15000/15000 [==============================] - 0s 32us/sample - loss: 0.6859 - acc: 0.7372 - val_loss: 0.6819 - val_acc: 0.7346\n",
      "Epoch 3/40\n",
      "15000/15000 [==============================] - 1s 38us/sample - loss: 0.6740 - acc: 0.7525 - val_loss: 0.6671 - val_acc: 0.7498\n",
      "Epoch 4/40\n",
      "15000/15000 [==============================] - 1s 41us/sample - loss: 0.6536 - acc: 0.7615 - val_loss: 0.6439 - val_acc: 0.7567\n",
      "Epoch 5/40\n",
      "15000/15000 [==============================] - 1s 43us/sample - loss: 0.6237 - acc: 0.7896 - val_loss: 0.6126 - val_acc: 0.7813\n",
      "Epoch 6/40\n",
      "15000/15000 [==============================] - 1s 40us/sample - loss: 0.5857 - acc: 0.8090 - val_loss: 0.5757 - val_acc: 0.7982\n",
      "Epoch 7/40\n",
      "15000/15000 [==============================] - 1s 42us/sample - loss: 0.5425 - acc: 0.8218 - val_loss: 0.5343 - val_acc: 0.8141\n",
      "Epoch 8/40\n",
      "15000/15000 [==============================] - 1s 42us/sample - loss: 0.4973 - acc: 0.8403 - val_loss: 0.4943 - val_acc: 0.8275\n",
      "Epoch 9/40\n",
      "15000/15000 [==============================] - 1s 39us/sample - loss: 0.4538 - acc: 0.8538 - val_loss: 0.4570 - val_acc: 0.8389\n",
      "Epoch 10/40\n",
      "15000/15000 [==============================] - 1s 42us/sample - loss: 0.4142 - acc: 0.8681 - val_loss: 0.4252 - val_acc: 0.8473\n",
      "Epoch 11/40\n",
      "15000/15000 [==============================] - 1s 41us/sample - loss: 0.3802 - acc: 0.8767 - val_loss: 0.3985 - val_acc: 0.8551\n",
      "Epoch 12/40\n",
      "15000/15000 [==============================] - 1s 40us/sample - loss: 0.3512 - acc: 0.8860 - val_loss: 0.3778 - val_acc: 0.8594\n",
      "Epoch 13/40\n",
      "15000/15000 [==============================] - 1s 39us/sample - loss: 0.3274 - acc: 0.8914 - val_loss: 0.3592 - val_acc: 0.8650\n",
      "Epoch 14/40\n",
      "15000/15000 [==============================] - 1s 40us/sample - loss: 0.3061 - acc: 0.8970 - val_loss: 0.3456 - val_acc: 0.8692\n",
      "Epoch 15/40\n",
      "15000/15000 [==============================] - 1s 39us/sample - loss: 0.2883 - acc: 0.9011 - val_loss: 0.3342 - val_acc: 0.8720\n",
      "Epoch 16/40\n",
      "15000/15000 [==============================] - 1s 41us/sample - loss: 0.2724 - acc: 0.9068 - val_loss: 0.3247 - val_acc: 0.8739\n",
      "Epoch 17/40\n",
      "15000/15000 [==============================] - 1s 39us/sample - loss: 0.2578 - acc: 0.9111 - val_loss: 0.3169 - val_acc: 0.8750\n",
      "Epoch 18/40\n",
      "15000/15000 [==============================] - 1s 39us/sample - loss: 0.2450 - acc: 0.9153 - val_loss: 0.3099 - val_acc: 0.8790\n",
      "Epoch 19/40\n",
      "15000/15000 [==============================] - 1s 38us/sample - loss: 0.2334 - acc: 0.9191 - val_loss: 0.3043 - val_acc: 0.8797\n",
      "Epoch 20/40\n",
      "15000/15000 [==============================] - 1s 40us/sample - loss: 0.2229 - acc: 0.9229 - val_loss: 0.3002 - val_acc: 0.8805\n",
      "Epoch 21/40\n",
      "15000/15000 [==============================] - 1s 43us/sample - loss: 0.2124 - acc: 0.9278 - val_loss: 0.2967 - val_acc: 0.8807\n",
      "Epoch 22/40\n",
      "15000/15000 [==============================] - 1s 40us/sample - loss: 0.2036 - acc: 0.9294 - val_loss: 0.2933 - val_acc: 0.8830\n",
      "Epoch 23/40\n",
      "15000/15000 [==============================] - 1s 40us/sample - loss: 0.1947 - acc: 0.9338 - val_loss: 0.2917 - val_acc: 0.8827\n",
      "Epoch 24/40\n",
      "15000/15000 [==============================] - 1s 40us/sample - loss: 0.1869 - acc: 0.9373 - val_loss: 0.2895 - val_acc: 0.8846\n",
      "Epoch 25/40\n",
      "15000/15000 [==============================] - 1s 41us/sample - loss: 0.1790 - acc: 0.9417 - val_loss: 0.2874 - val_acc: 0.8844\n",
      "Epoch 26/40\n",
      "15000/15000 [==============================] - 1s 41us/sample - loss: 0.1720 - acc: 0.9438 - val_loss: 0.2874 - val_acc: 0.8833\n",
      "Epoch 27/40\n",
      "15000/15000 [==============================] - 1s 41us/sample - loss: 0.1653 - acc: 0.9471 - val_loss: 0.2863 - val_acc: 0.8844\n",
      "Epoch 28/40\n",
      "15000/15000 [==============================] - 1s 42us/sample - loss: 0.1589 - acc: 0.9505 - val_loss: 0.2862 - val_acc: 0.8864\n",
      "Epoch 29/40\n",
      "15000/15000 [==============================] - 1s 40us/sample - loss: 0.1534 - acc: 0.9529 - val_loss: 0.2872 - val_acc: 0.8836\n",
      "Epoch 30/40\n",
      "15000/15000 [==============================] - 1s 41us/sample - loss: 0.1476 - acc: 0.9543 - val_loss: 0.2862 - val_acc: 0.8860\n",
      "Epoch 31/40\n",
      "15000/15000 [==============================] - 1s 42us/sample - loss: 0.1416 - acc: 0.9579 - val_loss: 0.2868 - val_acc: 0.8861\n",
      "Epoch 32/40\n",
      "15000/15000 [==============================] - 1s 40us/sample - loss: 0.1363 - acc: 0.9594 - val_loss: 0.2877 - val_acc: 0.8864\n",
      "Epoch 33/40\n",
      "15000/15000 [==============================] - 1s 42us/sample - loss: 0.1311 - acc: 0.9613 - val_loss: 0.2895 - val_acc: 0.8859\n",
      "Epoch 34/40\n",
      "15000/15000 [==============================] - 1s 40us/sample - loss: 0.1265 - acc: 0.9635 - val_loss: 0.2910 - val_acc: 0.8854\n",
      "Epoch 35/40\n",
      "15000/15000 [==============================] - 1s 41us/sample - loss: 0.1223 - acc: 0.9636 - val_loss: 0.2927 - val_acc: 0.8865\n",
      "Epoch 36/40\n",
      "15000/15000 [==============================] - 1s 42us/sample - loss: 0.1176 - acc: 0.9666 - val_loss: 0.2943 - val_acc: 0.8848\n",
      "Epoch 37/40\n",
      "15000/15000 [==============================] - 1s 40us/sample - loss: 0.1131 - acc: 0.9679 - val_loss: 0.2964 - val_acc: 0.8853\n",
      "Epoch 38/40\n",
      "15000/15000 [==============================] - 1s 41us/sample - loss: 0.1091 - acc: 0.9698 - val_loss: 0.2994 - val_acc: 0.8833\n",
      "Epoch 39/40\n",
      "15000/15000 [==============================] - 1s 42us/sample - loss: 0.1058 - acc: 0.9705 - val_loss: 0.3022 - val_acc: 0.8830\n",
      "Epoch 40/40\n",
      "15000/15000 [==============================] - 1s 41us/sample - loss: 0.1016 - acc: 0.9725 - val_loss: 0.3045 - val_acc: 0.8838\n"
     ]
    }
   ],
   "source": [
    "history = model.fit(partial_x_train,\n",
    "                   partial_y_train,\n",
    "                   epochs=40,\n",
    "                   batch_size=512,\n",
    "                   validation_data=(x_val, y_val),\n",
    "                   verbose=1)"
   ]
  },
  {
   "cell_type": "code",
   "execution_count": 30,
   "metadata": {},
   "outputs": [
    {
     "name": "stdout",
     "output_type": "stream",
     "text": [
      "25000/25000 [==============================] - 1s 21us/sample - loss: 0.3245 - acc: 0.8722\n",
      "[0.32448458837509153, 0.8722]\n"
     ]
    }
   ],
   "source": [
    "results = model.evaluate(test_data, test_labels)\n",
    "print(results)"
   ]
  },
  {
   "cell_type": "code",
   "execution_count": 32,
   "metadata": {},
   "outputs": [
    {
     "data": {
      "text/plain": [
       "dict_keys(['loss', 'acc', 'val_loss', 'val_acc'])"
      ]
     },
     "execution_count": 32,
     "metadata": {},
     "output_type": "execute_result"
    }
   ],
   "source": [
    "# Create a graph of accuracy and loss over time\n",
    "history_dict = history.history\n",
    "history_dict.keys()"
   ]
  },
  {
   "cell_type": "code",
   "execution_count": 34,
   "metadata": {},
   "outputs": [
    {
     "data": {
      "text/plain": [
       "<matplotlib.legend.Legend at 0x7f848317fb38>"
      ]
     },
     "execution_count": 34,
     "metadata": {},
     "output_type": "execute_result"
    },
    {
     "data": {
      "image/png": "[encoded data removed]",
      "text/plain": [
       "<Figure size 432x288 with 1 Axes>"
      ]
     },
     "metadata": {
      "needs_background": "light"
     },
     "output_type": "display_data"
    }
   ],
   "source": [
    "import matplotlib.pyplot as plt\n",
    "\n",
    "acc = history_dict['acc']\n",
    "val_acc = history_dict['val_acc']\n",
    "loss = history_dict['loss']\n",
    "val_loss = history_dict['val_loss']\n",
    "\n",
    "epochs = range(1, len(acc) + 1)\n",
    "\n",
    "# 'bo' is for 'blue dot'\n",
    "plt.plot(epochs, loss, 'bo', label='Training loss')\n",
    "# 'b' is for 'solid blue line'\n",
    "plt.plot(epochs, val_loss, 'b', label='Validation loss')\n",
    "plt.title('Training and validation loss')\n",
    "plt.xlabel('Epochs')\n",
    "plt.ylabel('Loss')\n",
    "plt.legend()"
   ]
  },
  {
   "cell_type": "code",
   "execution_count": 35,
   "metadata": {},
   "outputs": [
    {
     "data": {
      "text/plain": [
       "<matplotlib.legend.Legend at 0x7f84834dea90>"
      ]
     },
     "execution_count": 35,
     "metadata": {},
     "output_type": "execute_result"
    },
    {
     "data": {
      "image/png": "[encoded data removed]",
      "text/plain": [
       "<Figure size 432x288 with 1 Axes>"
      ]
     },
     "metadata": {
      "needs_background": "light"
     },
     "output_type": "display_data"
    }
   ],
   "source": [
    "plt.plot(epochs, acc, 'bo', label='Training acc')\n",
    "plt.plot(epochs, val_acc, 'b', label='Validation acc')\n",
    "plt.title('Training and validation accuracy')\n",
    "plt.xlabel('Epochs')\n",
    "plt.ylabel('Accuracy')\n",
    "plt.legend()"
   ]
  }
 ],
 "metadata": {
  "kernelspec": {
   "display_name": "Python 3",
   "language": "python",
   "name": "python3"
  },
  "language_info": {
   "codemirror_mode": {
    "name": "ipython",
    "version": 3
   },
   "file_extension": ".py",
   "mimetype": "text/x-python",
   "name": "python",
   "nbconvert_exporter": "python",
   "pygments_lexer": "ipython3",
   "version": "3.6.8"
  }
 },
 "nbformat": 4,
 "nbformat_minor": 2
}
